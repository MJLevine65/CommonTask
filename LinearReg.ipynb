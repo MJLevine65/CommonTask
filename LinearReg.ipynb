{
 "cells": [
  {
   "cell_type": "code",
   "execution_count": null,
   "id": "8aea32dd-b18b-4d0d-8a04-b8d9f33ab388",
   "metadata": {},
   "outputs": [],
   "source": [
    "import pandas as pd\n",
    "import os\n",
    "import numpy as np\n",
    "from sklearn import linear_model\n",
    "\n"
   ]
  },
  {
   "cell_type": "code",
   "execution_count": null,
   "id": "b96a0392-b185-48d6-bbce-8c9c32aee463",
   "metadata": {},
   "outputs": [],
   "source": [
    "class LinearModel():\n",
    "    def __init__(self,features,target):\n",
    "        self.features = features\n",
    "        self.target = target\n",
    "\n",
    "    def month_fun(self,m):\n",
    "            d = {1:0,2:0,3:0,4:0,5:0,6:0,7:0,8:0,9:0,10:0,11:0,12:0}\n",
    "            d[m] += 1\n",
    "            return d\n",
    "    def stat_fun(self,s):\n",
    "        d = {'USW00012839' : 0, 'USW00014819' :0, 'USW00013904' :0, 'USW00094728': 0}\n",
    "        d[s] += 1\n",
    "        return d\n",
    "    \n",
    "\n",
    "    def load_data(self,datastr : str):\n",
    "\n",
    "        self.dataset = pd.read_csv(datastr)\n",
    "        self.dataset = self.dataset[self.features+[self.target,\"STATION\",\"Month\"]]\n",
    "        # self.dataset[\"SNOW\"].fillna(0,inplace = True)\n",
    "        # self.dataset[\"SNWD\"].fillna(0,inplace = True)\n",
    "        self.dataset.dropna(inplace=True)\n",
    "        self.feature_data = pd.DataFrame()\n",
    "        self.target_data = pd.DataFrame()\n",
    "        self.target_data[self.target] = self.dataset[self.target].astype(\"int\")\n",
    "        for f in self.features:\n",
    "            self.feature_data[f] = self.dataset[f].astype(\"float\")\n",
    "        self.feature_data[[\"Jan\",\"Feb\",\"Mar\",\"Apr\",\"May\",\"Jun\",\"Jul\",\"Aug\",\"Sep\",\"Oct\",\"Nov\",\"Dec\"]] = \\\n",
    "            self.dataset.apply(lambda x : self.month_fun(x[\"Month\"]),axis = 1,result_type=\"expand\")\n",
    "        self.feature_data[['USW00012839', 'USW00014819', 'USW00013904', 'USW00094728']] =\\\n",
    "              self.dataset.apply(lambda x : self.stat_fun(x[\"STATION\"]),axis = 1, result_type=\"expand\")\n",
    "        self.feature_data.dropna(inplace=True)\n",
    "\n",
    "    \n",
    "    def train(self):\n",
    "        self.model = linear_model.LinearRegression()\n",
    "        self.ridge_model = linear_model.Ridge(alpha=9999999)\n",
    "        print(self.feature_data.columns)\n",
    "        self.model.fit(self.feature_data,self.target_data)\n",
    "        self.ridge_model.fit(self.feature_data,self.target_data)\n",
    "        print(\"Ordinary\")\n",
    "        print(self.model.score(self.feature_data,self.target_data))\n",
    "        print(self.model.coef_)\n",
    "        print(self.model.intercept_)\n",
    "        print(\"Ridge\")\n",
    "        print(self.model.score(self.feature_data,self.target_data))\n",
    "        print(self.model.coef_)\n",
    "        print(self.model.intercept_)\n",
    "\n",
    "    \n",
    "    def predict(self, data):\n",
    "        for i,row in data.iterrows():\n",
    "            track = list(row[\"days\"])\n",
    "            data.at[i,\"Week_av\"] = np.sum(track[-7:])/7\n",
    "            data.at[i,\"2Week_av\"] = np.sum(track[-14:])/14\n",
    "            data.at[i,\"Month_av\"] = np.sum(track)/30\n",
    "            data.at[i,\"d1\"],data.at[i,\"d2\"],data.at[i,\"d3\"],data.at[i,\"d4\"],data.at[i,\"d5\"],data.at[i,\"d6\"],data.at[i,\"d7\"] = track[-7:]\n",
    "        data[[\"Jan\",\"Feb\",\"Mar\",\"Apr\",\"May\",\"Jun\",\"Jul\",\"Aug\",\"Sep\",\"Oct\",\"Nov\",\"Dec\"]] = \\\n",
    "            data.apply(lambda x : self.month_fun(x[\"Month\"]),axis = 1,result_type=\"expand\")\n",
    "        data[['USW00012839', 'USW00014819', 'USW00013904', 'USW00094728']] =\\\n",
    "              data.apply(lambda x : self.stat_fun(x[\"STATION\"]),axis = 1, result_type=\"expand\")\n",
    "        data.drop([\"Month\",\"STATION\",\"days\"],axis = 1,inplace = True)\n",
    "        return self.model.predict(data),self.ridge_model.predict(data)\n",
    "\n",
    "\n"
   ]
  },
  {
   "cell_type": "code",
   "execution_count": null,
   "id": "25ecdeb0-2c7c-4a3f-b287-67133f561a6c",
   "metadata": {},
   "outputs": [],
   "source": [
    "lm = LinearModel([\"Week_av\",\"2Week_av\",\"Month_av\",\"d1\",\"d2\",\"d3\",\"d4\",\"d5\",\"d6\",\"d7\"],\"TMAX\")\n",
    "lm.load_data(\"./data/1948_2024.csv\")\n",
    "lm.train()\n",
    "with open('vars.json', 'r') as f:\n",
    "    data = json.load(f)\n",
    "NY_daily,M_daily,C_daily,A_daily =  data[\"M\"],data[\"C\"],data[\"A\"],data[\"NY\"]\n",
    "print(lm.predict(pd.DataFrame({\"STATION\":['USW00012839', 'USW00014819', 'USW00013904', 'USW00094728'],\"Month\":[3,3,3,3],\"days\" : [M_daily,C_daily,A_daily,NY_daily]})))"
   ]
  }
 ],
 "metadata": {
  "kernelspec": {
   "display_name": "Python 3 (ipykernel)",
   "language": "python",
   "name": "python3"
  },
  "language_info": {
   "codemirror_mode": {
    "name": "ipython",
    "version": 3
   },
   "file_extension": ".py",
   "mimetype": "text/x-python",
   "name": "python",
   "nbconvert_exporter": "python",
   "pygments_lexer": "ipython3",
   "version": "3.10.9"
  }
 },
 "nbformat": 4,
 "nbformat_minor": 5
}
