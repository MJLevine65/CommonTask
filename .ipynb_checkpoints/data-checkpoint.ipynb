{
 "cells": [
  {
   "cell_type": "code",
   "execution_count": 1,
   "metadata": {},
   "outputs": [],
   "source": [
    "import pandas as pd\n",
    "import os\n",
    "\n",
    "\n",
    "df1 = pd.read_csv(\"./3618973.csv\")\n",
    "df2 = pd.read_csv(\"./3618766.csv\")\n",
    "df = pd.concat([df1,df2])"
   ]
  },
  {
   "cell_type": "code",
   "execution_count": 2,
   "metadata": {},
   "outputs": [],
   "source": [
    "def date_fun(date):\n",
    "    date = date.split(\"-\")\n",
    "    return {\"Year\" : int(date[0]), \"Month\" : int(date[1]),\"Day\" : int(date[2])}\n",
    "df[[\"Year\",\"Month\",\"Day\"]] = df.apply(lambda x : date_fun(x[\"DATE\"]),axis = 1,result_type = \"expand\")"
   ]
  },
  {
   "cell_type": "code",
   "execution_count": 3,
   "metadata": {},
   "outputs": [],
   "source": [
    "df = df[df[\"Year\"] >= 1948]\n",
    "df = df[df[\"TMAX\"].isna() != True]\n",
    "df = df.dropna(axis=1,thresh = len(df)*.5)\n",
    "# df.to_csv(\"1948_2024.csv\",index = False)"
   ]
  },
  {
   "cell_type": "code",
   "execution_count": 4,
   "metadata": {},
   "outputs": [
    {
     "name": "stdout",
     "output_type": "stream",
     "text": [
      "84320\n"
     ]
    }
   ],
   "source": [
    "import pandas as pd\n",
    "import datetime as dt\n",
    "df[\"Datetime\"] = df.apply(lambda x : dt.datetime(x[\"Year\"],x[\"Month\"],x[\"Day\"]),axis = 1)\n",
    "print(len(df))"
   ]
  },
  {
   "cell_type": "code",
   "execution_count": 6,
   "metadata": {},
   "outputs": [
    {
     "name": "stderr",
     "output_type": "stream",
     "text": [
      "84320it [21:58, 63.96it/s] \n"
     ]
    }
   ],
   "source": [
    "from tqdm import tqdm\n",
    "import numpy as np\n",
    "stat = None\n",
    "track = []\n",
    "for i,row in tqdm(df.iterrows()):\n",
    "    if row[\"Year\"] == 2024:\n",
    "        continue\n",
    "    if row[\"STATION\"] != stat:\n",
    "        track = []\n",
    "        stat = row[\"STATION\"]\n",
    "    if len(track) < 30:\n",
    "        p = row[\"PRCP\"]\n",
    "        track.append(row[\"TMAX\"])\n",
    "        continue\n",
    "    df.at[i,\"ry\"] = p\n",
    "    df.at[i,\"Week_av\"] = np.sum(track[-7:])/7\n",
    "    df.at[i,\"2Week_av\"] = np.sum(track[-14:])/14\n",
    "    df.at[i,\"Month_av\"] = np.sum(track)/30\n",
    "    for j in range(1,31):\n",
    "        df.at[i,\"d\" + str(j)] = track[30-j]\n",
    "    track = track[1:]\n",
    "    track.append(row[\"TMAX\"]) \n",
    "    p = row[\"PRCP\"]\n",
    "        "
   ]
  },
  {
   "cell_type": "code",
   "execution_count": 8,
   "metadata": {},
   "outputs": [],
   "source": [
    "df.to_csv(\"1948_2024.csv\",index = False)"
   ]
  },
  {
   "cell_type": "code",
   "execution_count": 11,
   "metadata": {},
   "outputs": [],
   "source": [
    "df = pd.read_csv(\"1948_2024.csv\")"
   ]
  },
  {
   "cell_type": "code",
   "execution_count": 29,
   "metadata": {},
   "outputs": [
    {
     "name": "stdout",
     "output_type": "stream",
     "text": [
      "65910\n"
     ]
    }
   ],
   "source": [
    "df = df[df[\"Year\"] >= 1965]\n",
    "print(len(df))"
   ]
  },
  {
   "cell_type": "code",
   "execution_count": 27,
   "metadata": {},
   "outputs": [],
   "source": [
    "import requests\n",
    "import io\n",
    "nyurl = \"https://mesonet.agron.iastate.edu/cgi-bin/request/daily.py?network=NY_ASOS&stations=NYC\"\n",
    "miaurl = \"https://mesonet.agron.iastate.edu/cgi-bin/request/daily.py?network=FL_ASOS&stations=MIA\"\n",
    "chiurl = \"https://mesonet.agron.iastate.edu/cgi-bin/request/daily.py?network=IL_ASOS&stations=MDW\"\n",
    "ausurl = \"https://mesonet.agron.iastate.edu/cgi-bin/request/daily.py?network=TX_ASOS&stations=ATT\"\n",
    "df[[\"Year\",\"Month\",\"Day\"]] = df.apply(lambda x : date_fun(x[\"DATE\"]),axis = 1,result_type = \"expand\")\n",
    "df_hds = []\n",
    "for city in [\"M\",\"C\",\"A\",\"NY\"]:\n",
    "    url = \"&year1=1965&month1=1&day1=1&year2=2024&month2=3&day2=17&var=max_rh&na=blank&format=csv\"\n",
    "    u = {\"NY\" : nyurl,\"M\" : miaurl, \"C\" : chiurl,\"A\" : ausurl}[city] + url\n",
    "    r = requests.get(u).text\n",
    "    df_hd = pd.read_csv(io.StringIO(r),sep = \",\")\n",
    "    df_hd[[\"Year\",\"Month\",\"Day\"]] = df_hd.apply(lambda x : date_fun(x[\"day\"]),axis = 1,result_type = \"expand\")\n",
    "    df_hd[\"STATION\"] = df_hd[\"station\"].replace({\"MIA\": 'USW00012839', \"MDW\":'USW00014819', \"ATT\":'USW00013904', \"NYC\":'USW00094728'})\n",
    "    df_hd.drop(columns = [\"station\",'day'],inplace = True)\n",
    "    df_hds.append(df_hd)\n",
    "    #df_hd.apply(lambda x : {\"MIA\": 'USW00012839', \"MDW\":'USW00014819', \"ATT\":'USW00013904', \"NYC\":'USW00094728'}[x[\"station\"]],axis = 1,result_type = \"expand\")\n",
    "df_hds = pd.concat(df_hds)\n",
    "    "
   ]
  },
  {
   "cell_type": "code",
   "execution_count": 28,
   "metadata": {},
   "outputs": [
    {
     "name": "stdout",
     "output_type": "stream",
     "text": [
      "          max_rh  Year  Month  Day      STATION\n",
      "0      81.001440  1965      1    1  USW00012839\n",
      "1      84.260040  1965      1    2  USW00012839\n",
      "2      92.564200  1965      1    3  USW00012839\n",
      "3      93.275604  1965      1    4  USW00012839\n",
      "4      74.564210  1965      1    5  USW00012839\n",
      "...          ...   ...    ...  ...          ...\n",
      "16933  73.769150  2024      3   13  USW00094728\n",
      "16934  79.437454  2024      3   14  USW00094728\n",
      "16935  66.116776  2024      3   15  USW00094728\n",
      "16936  65.874460  2024      3   16  USW00094728\n",
      "16937  73.967030  2024      3   17  USW00094728\n",
      "\n",
      "[81814 rows x 5 columns]\n"
     ]
    }
   ],
   "source": [
    "print(df_hds)"
   ]
  },
  {
   "cell_type": "code",
   "execution_count": 33,
   "metadata": {},
   "outputs": [],
   "source": [
    "df = pd.merge(df,df_hds,on = ['STATION', 'Year', 'Month', 'Day'],how = \"inner\")"
   ]
  },
  {
   "cell_type": "code",
   "execution_count": 34,
   "metadata": {},
   "outputs": [
    {
     "name": "stdout",
     "output_type": "stream",
     "text": [
      "           STATION                                NAME        DATE  AWND  \\\n",
      "0      USW00012839  MIAMI INTERNATIONAL AIRPORT, FL US  1965-01-01   NaN   \n",
      "1      USW00012839  MIAMI INTERNATIONAL AIRPORT, FL US  1965-01-02   NaN   \n",
      "2      USW00012839  MIAMI INTERNATIONAL AIRPORT, FL US  1965-01-03   NaN   \n",
      "3      USW00012839  MIAMI INTERNATIONAL AIRPORT, FL US  1965-01-04   NaN   \n",
      "4      USW00012839  MIAMI INTERNATIONAL AIRPORT, FL US  1965-01-05   NaN   \n",
      "...            ...                                 ...         ...   ...   \n",
      "61215  USW00094728         NY CITY CENTRAL PARK, NY US  2024-02-20  5.37   \n",
      "61216  USW00094728         NY CITY CENTRAL PARK, NY US  2024-02-21   NaN   \n",
      "61217  USW00094728         NY CITY CENTRAL PARK, NY US  2024-02-22   NaN   \n",
      "61218  USW00094728         NY CITY CENTRAL PARK, NY US  2024-02-23   NaN   \n",
      "61219  USW00094728         NY CITY CENTRAL PARK, NY US  2024-02-24   NaN   \n",
      "\n",
      "         PGTM  PRCP  SNOW  SNWD  TMAX  TMIN  ...   d22   d23   d24   d25  \\\n",
      "0      1612.0  0.23   0.0   0.0  78.0  70.0  ...  78.0  78.0  73.0  74.0   \n",
      "1        42.0  0.00   0.0   0.0  77.0  63.0  ...  79.0  78.0  78.0  73.0   \n",
      "2      2312.0  0.07   0.0   0.0  78.0  59.0  ...  80.0  79.0  78.0  78.0   \n",
      "3      1048.0  0.06   0.0   0.0  73.0  64.0  ...  81.0  80.0  79.0  78.0   \n",
      "4      1012.0  0.00   0.0   0.0  72.0  55.0  ...  80.0  81.0  80.0  79.0   \n",
      "...       ...   ...   ...   ...   ...   ...  ...   ...   ...   ...   ...   \n",
      "61215   407.0  0.00   0.0   0.0  40.0  26.0  ...  94.0  92.0  89.0  88.0   \n",
      "61216     NaN  0.00   0.0   0.0  43.0  30.0  ...  95.0  94.0  92.0  89.0   \n",
      "61217     NaN  0.04   0.0   0.0  45.0  35.0  ...  95.0  95.0  94.0  92.0   \n",
      "61218     NaN  0.04   0.0   0.0  47.0  42.0  ...  96.0  95.0  95.0  94.0   \n",
      "61219     NaN  0.00   0.0   0.0  44.0  28.0  ...  96.0  96.0  95.0  95.0   \n",
      "\n",
      "        d26   d27   d28   d29   d30     max_rh  \n",
      "0      75.0  83.0  83.0  81.0  76.0  81.001440  \n",
      "1      74.0  75.0  83.0  83.0  81.0  84.260040  \n",
      "2      73.0  74.0  75.0  83.0  83.0  92.564200  \n",
      "3      78.0  73.0  74.0  75.0  83.0  93.275604  \n",
      "4      78.0  78.0  73.0  74.0  75.0  74.564210  \n",
      "...     ...   ...   ...   ...   ...        ...  \n",
      "61215  93.0  92.0  92.0  91.0  91.0  49.016790  \n",
      "61216  88.0  93.0  92.0  92.0  91.0  66.321014  \n",
      "61217  89.0  88.0  93.0  92.0  92.0  85.595870  \n",
      "61218  92.0  89.0  88.0  93.0  92.0  89.059220  \n",
      "61219  94.0  92.0  89.0  88.0  93.0  76.124100  \n",
      "\n",
      "[61220 rows x 49 columns]\n"
     ]
    }
   ],
   "source": [
    "df.to_csv(\"1965_2024.csv\",index=False)"
   ]
  }
 ],
 "metadata": {
  "kernelspec": {
   "display_name": "Python 3 (ipykernel)",
   "language": "python",
   "name": "python3"
  },
  "language_info": {
   "codemirror_mode": {
    "name": "ipython",
    "version": 3
   },
   "file_extension": ".py",
   "mimetype": "text/x-python",
   "name": "python",
   "nbconvert_exporter": "python",
   "pygments_lexer": "ipython3",
   "version": "3.10.9"
  }
 },
 "nbformat": 4,
 "nbformat_minor": 4
}
