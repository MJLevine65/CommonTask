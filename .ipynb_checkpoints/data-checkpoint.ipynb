{
 "cells": [
  {
   "cell_type": "code",
   "execution_count": 1,
   "metadata": {},
   "outputs": [],
   "source": [
    "import pandas as pd\n",
    "import os\n",
    "\n",
    "\n",
    "df1 = pd.read_csv(\"./3618973.csv\")\n",
    "df2 = pd.read_csv(\"./3618766.csv\")\n",
    "df = pd.concat([df1,df2])"
   ]
  },
  {
   "cell_type": "code",
   "execution_count": 18,
   "metadata": {},
   "outputs": [],
   "source": [
    "def date_fun(date):\n",
    "    if date != date:\n",
    "        return None\n",
    "    date = date.split(\"-\")\n",
    "    return {\"Year\" : int(date[0]), \"Month\" : int(date[1]),\"Day\" : int(date[2])}\n",
    "# df[[\"Year\",\"Month\",\"Day\"]] = df.apply(lambda x : date_fun(x[\"DATE\"]),axis = 1,result_type = \"expand\")"
   ]
  },
  {
   "cell_type": "code",
   "execution_count": 3,
   "metadata": {},
   "outputs": [],
   "source": [
    "df = df[df[\"Year\"] >= 1948]\n",
    "df = df[df[\"TMAX\"].isna() != True]\n",
    "df = df.dropna(axis=1,thresh = len(df)*.5)\n",
    "# df.to_csv(\"1948_2024.csv\",index = False)"
   ]
  },
  {
   "cell_type": "code",
   "execution_count": 4,
   "metadata": {},
   "outputs": [
    {
     "name": "stdout",
     "output_type": "stream",
     "text": [
      "84320\n"
     ]
    }
   ],
   "source": [
    "import pandas as pd\n",
    "import datetime as dt\n",
    "df[\"Datetime\"] = df.apply(lambda x : dt.datetime(x[\"Year\"],x[\"Month\"],x[\"Day\"]),axis = 1)\n",
    "print(len(df))"
   ]
  },
  {
   "cell_type": "code",
   "execution_count": 6,
   "metadata": {},
   "outputs": [
    {
     "name": "stderr",
     "output_type": "stream",
     "text": [
      "84320it [21:58, 63.96it/s] \n"
     ]
    }
   ],
   "source": [
    "from tqdm import tqdm\n",
    "import numpy as np\n",
    "stat = None\n",
    "track = []\n",
    "for i,row in tqdm(df.iterrows()):\n",
    "    if row[\"Year\"] == 2024:\n",
    "        continue\n",
    "    if row[\"STATION\"] != stat:\n",
    "        track = []\n",
    "        stat = row[\"STATION\"]\n",
    "    if len(track) < 30:\n",
    "        p = row[\"PRCP\"]\n",
    "        track.append(row[\"TMAX\"])\n",
    "        continue\n",
    "    df.at[i,\"ry\"] = p\n",
    "    df.at[i,\"Week_av\"] = np.sum(track[-7:])/7\n",
    "    df.at[i,\"2Week_av\"] = np.sum(track[-14:])/14\n",
    "    df.at[i,\"Month_av\"] = np.sum(track)/30\n",
    "    for j in range(1,31):\n",
    "        df.at[i,\"d\" + str(j)] = track[30-j]\n",
    "    track = track[1:]\n",
    "    track.append(row[\"TMAX\"]) \n",
    "    p = row[\"PRCP\"]\n",
    "        "
   ]
  },
  {
   "cell_type": "code",
   "execution_count": 8,
   "metadata": {},
   "outputs": [],
   "source": [
    "df.to_csv(\"1948_2024.csv\",index = False)"
   ]
  },
  {
   "cell_type": "code",
   "execution_count": 11,
   "metadata": {},
   "outputs": [],
   "source": [
    "df = pd.read_csv(\"1948_2024.csv\")"
   ]
  },
  {
   "cell_type": "code",
   "execution_count": 29,
   "metadata": {},
   "outputs": [
    {
     "name": "stdout",
     "output_type": "stream",
     "text": [
      "65910\n"
     ]
    }
   ],
   "source": [
    "df = df[df[\"Year\"] >= 1965]\n",
    "print(len(df))"
   ]
  },
  {
   "cell_type": "code",
   "execution_count": 27,
   "metadata": {},
   "outputs": [],
   "source": [
    "import requests\n",
    "import io\n",
    "nyurl = \"https://mesonet.agron.iastate.edu/cgi-bin/request/daily.py?network=NY_ASOS&stations=NYC\"\n",
    "miaurl = \"https://mesonet.agron.iastate.edu/cgi-bin/request/daily.py?network=FL_ASOS&stations=MIA\"\n",
    "chiurl = \"https://mesonet.agron.iastate.edu/cgi-bin/request/daily.py?network=IL_ASOS&stations=MDW\"\n",
    "ausurl = \"https://mesonet.agron.iastate.edu/cgi-bin/request/daily.py?network=TX_ASOS&stations=ATT\"\n",
    "df[[\"Year\",\"Month\",\"Day\"]] = df.apply(lambda x : date_fun(x[\"DATE\"]),axis = 1,result_type = \"expand\")\n",
    "df_hds = []\n",
    "for city in [\"M\",\"C\",\"A\",\"NY\"]:\n",
    "    url = \"&year1=1965&month1=1&day1=1&year2=2024&month2=3&day2=17&var=max_rh&na=blank&format=csv\"\n",
    "    u = {\"NY\" : nyurl,\"M\" : miaurl, \"C\" : chiurl,\"A\" : ausurl}[city] + url\n",
    "    r = requests.get(u).text\n",
    "    df_hd = pd.read_csv(io.StringIO(r),sep = \",\")\n",
    "    df_hd[[\"Year\",\"Month\",\"Day\"]] = df_hd.apply(lambda x : date_fun(x[\"day\"]),axis = 1,result_type = \"expand\")\n",
    "    df_hd[\"STATION\"] = df_hd[\"station\"].replace({\"MIA\": 'USW00012839', \"MDW\":'USW00014819', \"ATT\":'USW00013904', \"NYC\":'USW00094728'})\n",
    "    df_hd.drop(columns = [\"station\",'day'],inplace = True)\n",
    "    df_hds.append(df_hd)\n",
    "    #df_hd.apply(lambda x : {\"MIA\": 'USW00012839', \"MDW\":'USW00014819', \"ATT\":'USW00013904', \"NYC\":'USW00094728'}[x[\"station\"]],axis = 1,result_type = \"expand\")\n",
    "df_hds = pd.concat(df_hds)\n",
    "    "
   ]
  },
  {
   "cell_type": "code",
   "execution_count": 28,
   "metadata": {},
   "outputs": [
    {
     "name": "stdout",
     "output_type": "stream",
     "text": [
      "          max_rh  Year  Month  Day      STATION\n",
      "0      81.001440  1965      1    1  USW00012839\n",
      "1      84.260040  1965      1    2  USW00012839\n",
      "2      92.564200  1965      1    3  USW00012839\n",
      "3      93.275604  1965      1    4  USW00012839\n",
      "4      74.564210  1965      1    5  USW00012839\n",
      "...          ...   ...    ...  ...          ...\n",
      "16933  73.769150  2024      3   13  USW00094728\n",
      "16934  79.437454  2024      3   14  USW00094728\n",
      "16935  66.116776  2024      3   15  USW00094728\n",
      "16936  65.874460  2024      3   16  USW00094728\n",
      "16937  73.967030  2024      3   17  USW00094728\n",
      "\n",
      "[81814 rows x 5 columns]\n"
     ]
    }
   ],
   "source": [
    "print(df_hds)"
   ]
  },
  {
   "cell_type": "code",
   "execution_count": 33,
   "metadata": {},
   "outputs": [],
   "source": [
    "df = pd.merge(df,df_hds,on = ['STATION', 'Year', 'Month', 'Day'],how = \"inner\")"
   ]
  },
  {
   "cell_type": "code",
   "execution_count": 35,
   "metadata": {},
   "outputs": [],
   "source": [
    "df.to_csv(\"1965_2024.csv\",index=False)"
   ]
  },
  {
   "cell_type": "code",
   "execution_count": 41,
   "metadata": {},
   "outputs": [
    {
     "name": "stdout",
     "output_type": "stream",
     "text": [
      "0\n",
      "0\n",
      "0\n",
      "[2000 2001 2002 2003 2004 2005 2006 2007 2008 2009 2010 2011 2012 2013\n",
      " 2014 2015 2016 2017 2018 2019 2020 2021 2022 2023 1970 1971 1972 1973\n",
      " 1974 1975 1976 1977 1978 1979 1980 1981 1982 1983 1984 1985 1986 1987\n",
      " 1988 1989 1990 1991 1992 1993 1994 1995 1996 1997 1998 1999 1965 1966\n",
      " 1967 1968 1969]\n"
     ]
    }
   ],
   "source": [
    "import pandas as pd\n",
    "dfs = []\n",
    "for s in [\"2000_2023\",\"1970_1999\",\"1965_1969\"]:\n",
    "    dfs.append(pd.read_csv(\"forecasts\" + s + \".csv\"))\n",
    "    d = pd.read_csv(\"forecasts\" + s + \".csv\")\n",
    "    print(len(d[d[\"datetime\"].isna() == True]))\n",
    "dfs = pd.concat(dfs)\n",
    "dfs[[\"Year\",\"Month\",\"Day\"]] = dfs.apply(lambda x : date_fun(x[\"datetime\"]),axis = 1,result_type = \"expand\")\n",
    "print(dfs[\"Year\"].unique())"
   ]
  },
  {
   "cell_type": "code",
   "execution_count": 42,
   "metadata": {},
   "outputs": [
    {
     "name": "stdout",
     "output_type": "stream",
     "text": [
      "61220\n",
      "86196\n",
      "61010\n"
     ]
    }
   ],
   "source": [
    "dfs[\"STATION\"] = dfs[\"location_id (id)\"].replace({\"M\": 'USW00012839', \"C\":'USW00014819', \"A\":'USW00013904', \"NY\":'USW00094728'})\n",
    "dfs[\"temp_forecast\"] = (dfs[\"temperature (degC)\"] * 1.8) + 32\n",
    "dfs = dfs[[\"Year\",\"Month\",\"Day\",\"STATION\",\"temp_forecast\"]]\n",
    "df = pd.read_csv(\"1965_2024.csv\")\n",
    "print(len(df))\n",
    "print(len(dfs))\n",
    "df = pd.merge(df,dfs,on = ['STATION', 'Year', 'Month', 'Day'],how = \"inner\")\n",
    "print(len(df))\n",
    "df.to_csv(\"for_1965_2024.csv\",index=False)"
   ]
  }
 ],
 "metadata": {
  "kernelspec": {
   "display_name": "Python 3 (ipykernel)",
   "language": "python",
   "name": "python3"
  },
  "language_info": {
   "codemirror_mode": {
    "name": "ipython",
    "version": 3
   },
   "file_extension": ".py",
   "mimetype": "text/x-python",
   "name": "python",
   "nbconvert_exporter": "python",
   "pygments_lexer": "ipython3",
   "version": "3.12.1"
  }
 },
 "nbformat": 4,
 "nbformat_minor": 4
}
